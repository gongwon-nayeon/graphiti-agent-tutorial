{
 "cells": [
  {
   "cell_type": "markdown",
   "metadata": {
    "id": "Xz_GmiJaEEsN"
   },
   "source": [
    "### ⚙️ 환경 설정"
   ]
  },
  {
   "cell_type": "markdown",
   "metadata": {},
   "source": [
    "`pip install -qU langgraph langchain-core langchain-openai graphiti-core`\n",
    "\n",
    "`pip install -r requirements.txt`"
   ]
  },
  {
   "cell_type": "code",
   "execution_count": 2,
   "metadata": {},
   "outputs": [],
   "source": [
    "import asyncio\n",
    "import json\n",
    "import logging\n",
    "from logging import INFO\n",
    "import os\n",
    "from datetime import datetime, timezone, timedelta\n",
    "\n",
    "from dotenv import load_dotenv\n",
    "\n",
    "from graphiti_core import Graphiti\n",
    "from graphiti_core.nodes import EpisodeType\n",
    "from graphiti_core.search.search_config_recipes import NODE_HYBRID_SEARCH_RRF"
   ]
  },
  {
   "cell_type": "code",
   "execution_count": 3,
   "metadata": {},
   "outputs": [],
   "source": [
    "logging.basicConfig(\n",
    "    level=INFO,\n",
    "    format='%(asctime)s - %(name)s - %(levelname)s - %(message)s',\n",
    "    datefmt='%Y-%m-%d %H:%M:%S',\n",
    ")\n",
    "logger = logging.getLogger(__name__)\n",
    "\n",
    "load_dotenv()\n",
    "\n",
    "neo4j_uri = os.environ.get('NEO4J_URI')\n",
    "neo4j_user = os.environ.get('NEO4J_USERNAME')\n",
    "neo4j_password = os.environ.get('NEO4J_PASSWORD')\n",
    "\n",
    "if not neo4j_uri or not neo4j_user or not neo4j_password:\n",
    "    raise ValueError('NEO4J_URI, NEO4J_USERNAME, and NEO4J_PASSWORD must be set')"
   ]
  },
  {
   "cell_type": "markdown",
   "metadata": {
    "id": "2nxaazKTDKvg"
   },
   "source": [
    "## 🧑‍💻 Graphiti 사용하기"
   ]
  },
  {
   "cell_type": "code",
   "execution_count": null,
   "metadata": {
    "colab": {
     "base_uri": "https://localhost:8080/"
    },
    "id": "cRo00engDNRg",
    "outputId": "7ad6fdc0-b55b-42b5-da82-f9bbff1dcff7"
   },
   "outputs": [],
   "source": [
    "graphiti = Graphiti(neo4j_uri, neo4j_user, neo4j_password)\n",
    "\n",
    "await graphiti.build_indices_and_constraints()"
   ]
  },
  {
   "cell_type": "markdown",
   "metadata": {
    "id": "sqfNTRbvDVvF"
   },
   "source": [
    "### 1) 에피소드 추가\n",
    "\n",
    "- 에피소드는 Graphiti의 기본 정보 단위"
   ]
  },
  {
   "cell_type": "markdown",
   "metadata": {},
   "source": [
    "**에피소드 유형**\n",
    "\n",
    "- `text`: 비정형 텍스트 데이터\n",
    "\n",
    "- `message`: 대화형 메시지 형식\n",
    "    - speaker: message...\n",
    "\n",
    "- `json`: 다른 유형과는 별도로 처리되는 구조화된 데이터"
   ]
  },
  {
   "cell_type": "code",
   "execution_count": 4,
   "metadata": {
    "colab": {
     "base_uri": "https://localhost:8080/"
    },
    "id": "cqDcQAXSDNNe",
    "outputId": "8b167b49-e801-42df-c17f-bfec2ef56fe0"
   },
   "outputs": [
    {
     "name": "stdout",
     "output_type": "stream",
     "text": [
      "총 2개의 에피소드가 정의되었습니다.\n"
     ]
    }
   ],
   "source": [
    "episodes = [\n",
    "    {\n",
    "        'name': 'OpenAI',\n",
    "        'content': {\n",
    "            \"name\": \"OpenAI\",\n",
    "            \"founded\": \"2015-12-8\",\n",
    "            \"founders\": \"Sam Altman\",\n",
    "            \"type\": \"AI 연구 개발 기업\",\n",
    "            \"official_website\": \"https://openai.com/\",\n",
    "        },\n",
    "        'type': EpisodeType.json,\n",
    "        'description': 'article metadata',\n",
    "    },\n",
    "    {\n",
    "        'name': 'OpenAI의 기본 모델',\n",
    "        'content': '2024년 5월 기준, OpenAI의 기본 모델은 GPT-4o입니다.',\n",
    "        'type': EpisodeType.text,\n",
    "        'description': 'news article',\n",
    "    }\n",
    "]\n",
    "\n",
    "print(f\"총 {len(episodes)}개의 에피소드가 정의되었습니다.\")"
   ]
  },
  {
   "cell_type": "code",
   "execution_count": null,
   "metadata": {
    "id": "qBOqXu0BDTag"
   },
   "outputs": [],
   "source": [
    "for i, episode in enumerate(episodes):\n",
    "    await graphiti.add_episode(\n",
    "        name=episode['name'],\n",
    "        episode_body=episode['content']\n",
    "        if isinstance(episode['content'], str)\n",
    "        else json.dumps(episode['content']),\n",
    "        source=episode['type'],\n",
    "        source_description=episode['description'],\n",
    "        reference_time=datetime.now(timezone.utc),\n",
    "    )\n",
    "    print(f'Added episode: {episode[\"name\"]} ({episode[\"type\"].value})')"
   ]
  },
  {
   "cell_type": "markdown",
   "metadata": {},
   "source": [
    "새로운 에피소드 추가!"
   ]
  },
  {
   "cell_type": "code",
   "execution_count": 6,
   "metadata": {
    "id": "Qiid63jODb1r"
   },
   "outputs": [
    {
     "name": "stdout",
     "output_type": "stream",
     "text": [
      "총 1개의 에피소드가 정의되었습니다.\n"
     ]
    }
   ],
   "source": [
    "episodes = [\n",
    "    {\n",
    "        'name': '새로운 모델 출시',\n",
    "        'content': 'OpenAI의 현재 기본 모델은 8월 8일부로 GPT-5로 변경되었습니다.'\n",
    "        'GPT-5는 전반적으로 훨씬 더 스마트하며, 특히 수학, 코딩, 시각적 인식, 의료 분야의 학술적 및 인간 평가 벤치마크에서의 성과에서 확인할 수 있습니다. '\n",
    "        '수학(도구 없이 AIME 2025에서 94.6%), 실제 코딩(SWEBench에서 74.9%, 에이더 폴리글롯에서 88%), 멀티모달 이해(MMU에서 84.2$), 의료(HealthBench Hard에서 46.2%) 전반에서 새롭게 최고 기록을 세웠으며 이러한 이점은 일상 사용에도 적용됩니다. ',\n",
    "        'type': EpisodeType.text,\n",
    "        'description': 'news article',\n",
    "    }\n",
    "]\n",
    "\n",
    "print(f\"총 {len(episodes)}개의 에피소드가 정의되었습니다.\")"
   ]
  },
  {
   "cell_type": "code",
   "execution_count": null,
   "metadata": {
    "id": "4dFqmxsJDbu5"
   },
   "outputs": [],
   "source": [
    "for i, episode in enumerate(episodes):\n",
    "    await graphiti.add_episode(\n",
    "        name=episode['name'],\n",
    "        episode_body=episode['content']\n",
    "        if isinstance(episode['content'], str)\n",
    "        else json.dumps(episode['content']),\n",
    "        source=episode['type'],\n",
    "        source_description=episode['description'],\n",
    "        reference_time=datetime.now(timezone.utc),\n",
    "    )\n",
    "    print(f'Added episode: {episode[\"name\"]} ({episode[\"type\"].value})')"
   ]
  },
  {
   "cell_type": "markdown",
   "metadata": {
    "id": "QCdCXO5iDfKq"
   },
   "source": [
    "### 2) 검색"
   ]
  },
  {
   "cell_type": "markdown",
   "metadata": {},
   "source": [
    "1) 기본 검색 (엣지 검색)"
   ]
  },
  {
   "cell_type": "code",
   "execution_count": null,
   "metadata": {
    "id": "e-K9xAG0DgR1"
   },
   "outputs": [],
   "source": [
    "query = \"OpenAI의 정보를 알려주세요.\"\n",
    "print(f\"검색 중: '{query}'\")\n",
    "results = await graphiti.search(query)\n",
    "\n",
    "print('\\n검색 결과:')\n",
    "for result in results:\n",
    "    print(f'UUID: {result.uuid}')\n",
    "    print(f'Fact: {result.fact}')\n",
    "    if hasattr(result, 'valid_at') and result.valid_at:\n",
    "        print(f'Valid from: {result.valid_at}')\n",
    "    if hasattr(result, 'invalid_at') and result.invalid_at:\n",
    "        print(f'Valid until: {result.invalid_at}')\n",
    "    print('---')"
   ]
  },
  {
   "cell_type": "markdown",
   "metadata": {},
   "source": [
    "2) 중심 노드 기반 검색 (엣지 검색)"
   ]
  },
  {
   "cell_type": "code",
   "execution_count": null,
   "metadata": {
    "id": "NjYPB0ZPDiBv"
   },
   "outputs": [],
   "source": [
    "query = \"OpenAI의 정보를 알려주세요.\"\n",
    "\n",
    "# 상위 검색 결과의 소스 노드 UUID를 중심 노드로 사용\n",
    "center_node_uuid = results[0].source_node_uuid\n",
    "\n",
    "print('\\n그래프 거리를 기반으로 검색 결과 재정렬:')\n",
    "print(f'중심 노드 UUID 사용: {center_node_uuid}')\n",
    "\n",
    "reranked_results = await graphiti.search(\n",
    "    query, center_node_uuid=center_node_uuid\n",
    ")\n",
    "\n",
    "print('\\n재정렬된 검색 결과:')\n",
    "for result in reranked_results:\n",
    "    print(f'UUID: {result.uuid}')\n",
    "    print(f'Fact: {result.fact}')\n",
    "    if hasattr(result, 'valid_at') and result.valid_at:\n",
    "        print(f'Valid from: {result.valid_at}')\n",
    "    if hasattr(result, 'invalid_at') and result.invalid_at:\n",
    "        print(f'Valid until: {result.invalid_at}')\n",
    "    print('---')"
   ]
  },
  {
   "cell_type": "markdown",
   "metadata": {},
   "source": [
    "3) 검색 레시피 사용 (NODE_HYBRID_SEARCH_RRF) 하여 노드 검색"
   ]
  },
  {
   "cell_type": "code",
   "execution_count": null,
   "metadata": {
    "id": "NQuuU_YiDgNK"
   },
   "outputs": [],
   "source": [
    "node_search_config = NODE_HYBRID_SEARCH_RRF.model_copy(deep=True)\n",
    "node_search_config.limit = 5\n",
    "\n",
    "node_search_results = await graphiti._search(\n",
    "    query='gpt-5',\n",
    "    config=node_search_config,\n",
    ")\n",
    "\n",
    "print('\\n노드 검색 결과:')\n",
    "for node in node_search_results.nodes:\n",
    "    print(f'Node UUID: {node.uuid}')\n",
    "    print(f'Node Name: {node.name}')\n",
    "    node_summary = node.summary[:100] + '...' if len(node.summary) > 100 else node.summary\n",
    "    print(f'Content Summary: {node_summary}')\n",
    "    print(f'Node Labels: {\", \".join(node.labels)}')\n",
    "    print(f'Created At: {node.created_at}')\n",
    "    if hasattr(node, 'attributes') and node.attributes:\n",
    "        print('Attributes:')\n",
    "        for key, value in node.attributes.items():\n",
    "            print(f'  {key}: {value}')\n",
    "    print('---')"
   ]
  },
  {
   "cell_type": "code",
   "execution_count": null,
   "metadata": {
    "id": "RDHlGOLUDlgK"
   },
   "outputs": [],
   "source": [
    "# await graphiti.close()"
   ]
  },
  {
   "cell_type": "code",
   "execution_count": null,
   "metadata": {
    "id": "TuR8CAgDDNIF"
   },
   "outputs": [],
   "source": []
  },
  {
   "cell_type": "markdown",
   "metadata": {},
   "source": [
    "## 🤖 Agent"
   ]
  },
  {
   "cell_type": "code",
   "execution_count": 5,
   "metadata": {},
   "outputs": [],
   "source": [
    "from langchain_core.messages import AIMessage, SystemMessage\n",
    "from langchain_core.tools import tool\n",
    "from langchain_openai import ChatOpenAI\n",
    "from langgraph.prebuilt import ToolNode"
   ]
  },
  {
   "cell_type": "code",
   "execution_count": 6,
   "metadata": {},
   "outputs": [],
   "source": [
    "llm = ChatOpenAI(model=\"gpt-4o\", temperature=0)"
   ]
  },
  {
   "cell_type": "markdown",
   "metadata": {
    "id": "W0PGYqhR-TPi"
   },
   "source": [
    "### 🔧 에피소드 저장 & 호출 도구"
   ]
  },
  {
   "cell_type": "markdown",
   "metadata": {},
   "source": [
    "1) 에피소드 저장 도구"
   ]
  },
  {
   "cell_type": "code",
   "execution_count": 7,
   "metadata": {
    "colab": {
     "base_uri": "https://localhost:8080/"
    },
    "id": "FqPrvXt5_SXX",
    "outputId": "a8ae7f31-9483-4e6b-96a3-bb6ceb16f6aa"
   },
   "outputs": [],
   "source": [
    "@tool\n",
    "async def save_episode(\n",
    "    name: str,\n",
    "    content: str,\n",
    "    episode_type: str = \"text\",\n",
    "    description: str = \"User conversation episode\"\n",
    ") -> str:\n",
    "    \"\"\"\n",
    "    사용자가 제공한 정보를 저장합니다. 정보가 특정 시점에 한정된다면 시간 정보를 함께 저장해야 합니다.\n",
    "\n",
    "    Args:\n",
    "        name (str): 에피소드의 이름 또는 제목\n",
    "        content (str): 에피소드의 내용 (텍스트 또는 JSON 문자열)\n",
    "        episode_type (str): 에피소드 타입 ('text', 'json', 'message' 중 하나, 기본값: 'text')\n",
    "        description (str): 에피소드에 대한 설명 (기본값: 'User conversation episode')\n",
    "\n",
    "    Returns:\n",
    "        str: 저장 결과 메시지\n",
    "    \"\"\"\n",
    "    try:\n",
    "        episode_type_map = {\n",
    "            'text': EpisodeType.text,\n",
    "            'json': EpisodeType.json,\n",
    "            'message': EpisodeType.message\n",
    "        }\n",
    "\n",
    "        ep_type = episode_type_map.get(episode_type.lower(), EpisodeType.text)\n",
    "\n",
    "        await graphiti.add_episode(\n",
    "            name=name,\n",
    "            episode_body=content,\n",
    "            source=ep_type,\n",
    "            source_description=description,\n",
    "            reference_time=datetime.now(timezone.utc),\n",
    "        )\n",
    "\n",
    "        return f\"에피소드 '{name}'이 성공적으로 저장되었습니다. (타입: {episode_type})\"\n",
    "\n",
    "    except Exception as e:\n",
    "        return f\"에피소드 저장 중 오류가 발생했습니다: {str(e)}\""
   ]
  },
  {
   "cell_type": "code",
   "execution_count": 14,
   "metadata": {},
   "outputs": [],
   "source": [
    "tools = [save_episode]\n",
    "llm_with_tools = llm.bind_tools(tools)"
   ]
  },
  {
   "cell_type": "code",
   "execution_count": null,
   "metadata": {},
   "outputs": [],
   "source": [
    "query = \"\"\"\n",
    "아래 내용 저장해주세요.\n",
    "\n",
    "네이버가 인공지능(AI) 기술을 적용한 새로운 ‘맞춤형 검색’을 도입했다.\n",
    "이용자의 기존 검색 이력을 보여주는 대신 AI 추천 검색어와 숏폼 콘텐츠를 띄우는 식이다.\n",
    "카카오도 다음달 AI가 접목된 카카오톡 개편 방향을 공개할 예정이어서 두 대형 플랫폼의 AI 서비스 경쟁이 본격화하고 있다.\n",
    "\"\"\"\n",
    "await ToolNode(tools).ainvoke({'messages': [llm_with_tools.invoke(query)]})"
   ]
  },
  {
   "cell_type": "code",
   "execution_count": null,
   "metadata": {},
   "outputs": [],
   "source": []
  },
  {
   "cell_type": "markdown",
   "metadata": {},
   "source": [
    "2) 에피소드 검색 도구"
   ]
  },
  {
   "cell_type": "code",
   "execution_count": 8,
   "metadata": {},
   "outputs": [],
   "source": [
    "def edges_to_facts_string(edges):\n",
    "    \"\"\"\n",
    "    엣지 검색 결과를 문자열로 변환하는 헬퍼 함수\n",
    "    \"\"\"\n",
    "    if not edges:\n",
    "        return \"관련 정보를 찾을 수 없습니다.\"\n",
    "\n",
    "    current_time = datetime.now(timezone.utc)\n",
    "\n",
    "    def is_expired(edge):\n",
    "        if not (hasattr(edge, 'invalid_at') and edge.invalid_at):\n",
    "            return False\n",
    "        try:\n",
    "            invalid_time = edge.invalid_at\n",
    "            if isinstance(invalid_time, str):\n",
    "                invalid_time = datetime.fromisoformat(invalid_time.replace('Z', '+00:00'))\n",
    "            if invalid_time.tzinfo is None:\n",
    "                invalid_time = invalid_time.replace(tzinfo=timezone.utc)\n",
    "            return current_time > invalid_time\n",
    "        except:\n",
    "            return False\n",
    "\n",
    "    def get_fact_content(edge):\n",
    "        return edge.fact if hasattr(edge, 'fact') and edge.fact else str(edge)\n",
    "\n",
    "    valid_facts = [get_fact_content(edge) for edge in edges if not is_expired(edge)]\n",
    "    expired_count = len(edges) - len(valid_facts)\n",
    "\n",
    "    if not valid_facts:\n",
    "        return f\"관련 정보가 있었지만 모두 만료되었습니다. (만료된 정보 {expired_count}개)\" if expired_count else \"관련 정보를 찾을 수 없습니다.\"\n",
    "\n",
    "    result = \"=== 현재 유효한 정보 ===\\n\" + \"\\n\".join(valid_facts)\n",
    "    if expired_count:\n",
    "        result += f\"\\n\\n[필터링 정보: 유효 {len(valid_facts)}개, 만료 {expired_count}개 제외됨]\"\n",
    "\n",
    "    return result"
   ]
  },
  {
   "cell_type": "code",
   "execution_count": 9,
   "metadata": {
    "id": "tD1fRXd483_t"
   },
   "outputs": [],
   "source": [
    "@tool\n",
    "async def get_memory(\n",
    "    query: str,\n",
    ") -> str:\n",
    "    \"\"\"\n",
    "    사용자와의 대화 기록이나 저장된 정보를 검색하여 질문에 답할 때 사용합니다. (만료된 정보 필터링 포함)\n",
    "\n",
    "    Args:\n",
    "        query (str): 검색할 쿼리\n",
    "\n",
    "    Returns:\n",
    "        str: 검색 결과 (유효한 정보만 또는 모든 정보)\n",
    "    \"\"\"\n",
    "    try:\n",
    "        edge_results = await graphiti.search(\n",
    "            query,\n",
    "            num_results=5\n",
    "        )\n",
    "\n",
    "        return edges_to_facts_string(edge_results)\n",
    "\n",
    "    except Exception as e:\n",
    "        return f\"정보 검색 중 오류가 발생했습니다: {str(e)}\""
   ]
  },
  {
   "cell_type": "code",
   "execution_count": 18,
   "metadata": {
    "id": "tcSkMr2XA202"
   },
   "outputs": [],
   "source": [
    "tools = [get_memory]\n",
    "llm_with_tools = llm.bind_tools(tools)"
   ]
  },
  {
   "cell_type": "code",
   "execution_count": null,
   "metadata": {},
   "outputs": [],
   "source": [
    "query = \"\"\"\n",
    "OpenAI의 현재 정보를 알려주세요.\n",
    "\"\"\"\n",
    "tool_response = await ToolNode(tools).ainvoke({'messages': [llm_with_tools.invoke(query)]})\n",
    "tool_response"
   ]
  },
  {
   "cell_type": "code",
   "execution_count": null,
   "metadata": {},
   "outputs": [],
   "source": [
    "print(tool_response[\"messages\"][0].content)"
   ]
  },
  {
   "cell_type": "code",
   "execution_count": null,
   "metadata": {
    "id": "gmY2dG7hCmmC"
   },
   "outputs": [],
   "source": []
  },
  {
   "cell_type": "markdown",
   "metadata": {
    "id": "_rBwGNTY-dCT"
   },
   "source": [
    "### 🧠 도구 기반 에이전트 생성"
   ]
  },
  {
   "cell_type": "code",
   "execution_count": 10,
   "metadata": {},
   "outputs": [],
   "source": [
    "import uuid\n",
    "from typing_extensions import TypedDict\n",
    "from typing import Annotated\n",
    "\n",
    "from langgraph.checkpoint.memory import MemorySaver\n",
    "from langgraph.graph import END, START, StateGraph, add_messages"
   ]
  },
  {
   "cell_type": "code",
   "execution_count": 11,
   "metadata": {
    "id": "wf1SEaY1Cmcc"
   },
   "outputs": [],
   "source": [
    "tools = [save_episode, get_memory]\n",
    "tool_node = ToolNode(tools)"
   ]
  },
  {
   "cell_type": "markdown",
   "metadata": {},
   "source": [
    "1) ReAct 에이전트"
   ]
  },
  {
   "attachments": {
    "image.png": {
     "image/png": "[encoded data removed]"
    }
   },
   "cell_type": "markdown",
   "metadata": {},
   "source": [
    "![image.png](attachment:image.png)"
   ]
  },
  {
   "cell_type": "code",
   "execution_count": 23,
   "metadata": {},
   "outputs": [],
   "source": [
    "from langgraph.prebuilt import create_react_agent\n",
    "\n",
    "agent = create_react_agent(\n",
    "    llm,\n",
    "    tools,\n",
    "    prompt=\"\"\"\n",
    "    당신은 최신 정보를 저장하고 이를 기반으로 답변하는 지능형 에이전트입니다.\n",
    "    사용자가 입력한 정보를 저장하거나, 저장된 최신 정보를 기반으로 사용자의 질문에 정확하고 도움이 되는 답변을 제공해야 합니다.\n",
    "\n",
    "    답변 시 유의사항:\n",
    "    - 간결하고 명확하게 답변하세요.\n",
    "    - 저장된 정보가 부족하거나 날짜에 관한 추가 정보가 필요하다면 사용자에게 다시 물어보세요.\n",
    "    - 최신 정보를 우선적으로 활용하여 답변하세요.\n",
    "    \"\"\"\n",
    ")"
   ]
  },
  {
   "cell_type": "code",
   "execution_count": 24,
   "metadata": {},
   "outputs": [
    {
     "data": {
      "image/png": "[encoded data removed]",
      "text/plain": [
       "<IPython.core.display.Image object>"
      ]
     },
     "metadata": {},
     "output_type": "display_data"
    }
   ],
   "source": [
    "from IPython.display import Image, display\n",
    "\n",
    "try:\n",
    "    display(Image(agent.get_graph().draw_mermaid_png()))\n",
    "except Exception:\n",
    "    pass"
   ]
  },
  {
   "cell_type": "code",
   "execution_count": null,
   "metadata": {},
   "outputs": [],
   "source": [
    "query = \"\"\"\n",
    "2형 당뇨병의 원인을 찾아서 알려주세요.\n",
    "\"\"\"\n",
    "\n",
    "result = await agent.ainvoke(\n",
    "    {\n",
    "        'messages': [\n",
    "            {\n",
    "                'role': 'user',\n",
    "                'content': query,\n",
    "            }\n",
    "        ],\n",
    "    },\n",
    "    config={'configurable': {'thread_id': uuid.uuid4().hex}},\n",
    ")"
   ]
  },
  {
   "cell_type": "code",
   "execution_count": null,
   "metadata": {},
   "outputs": [],
   "source": [
    "for msg in result[\"messages\"]:\n",
    "    msg.pretty_print()"
   ]
  },
  {
   "cell_type": "code",
   "execution_count": null,
   "metadata": {},
   "outputs": [],
   "source": []
  },
  {
   "cell_type": "markdown",
   "metadata": {},
   "source": [
    "2) 커스텀 Agent"
   ]
  },
  {
   "cell_type": "code",
   "execution_count": 14,
   "metadata": {},
   "outputs": [],
   "source": [
    "class State(TypedDict):\n",
    "    messages: Annotated[list, add_messages]\n",
    "    user_name: str\n",
    "    user_node_uuid: str"
   ]
  },
  {
   "cell_type": "code",
   "execution_count": 15,
   "metadata": {},
   "outputs": [],
   "source": [
    "tools = [save_episode, get_memory]\n",
    "tool_node = ToolNode(tools)\n",
    "llm_with_tools = llm.bind_tools(tools)"
   ]
  },
  {
   "cell_type": "code",
   "execution_count": 16,
   "metadata": {},
   "outputs": [],
   "source": [
    "async def chatbot(state: State):\n",
    "    ### 기반 정보 검색\n",
    "    facts_string = None\n",
    "    if len(state['messages']) > 0:\n",
    "        last_message = state['messages'][-1]\n",
    "        print(f\"last_message: {last_message}\")\n",
    "        graphiti_query = f'{\"AI\" if isinstance(last_message, AIMessage) else state[\"user_name\"]}: {last_message.content}'\n",
    "        print(f\"graphiti_query: {graphiti_query}\")\n",
    "        edge_results = await graphiti.search(\n",
    "            graphiti_query,\n",
    "            center_node_uuid=state[\"user_node_uuid\"],\n",
    "            num_results=5\n",
    "        )\n",
    "        print(\"edge_results\", edge_results)\n",
    "        facts_string = edges_to_facts_string(edge_results)\n",
    "        print(f\"facts_string: {facts_string}\")\n",
    "\n",
    "    ### LLM 설정 및 응답 생성\n",
    "    system_message = SystemMessage(\n",
    "        content=f\"\"\"당신은 최신 정보를 저장하고 이를 기반으로 답변하는 지능형 에이전트입니다.\n",
    "        사용자가 입력한 정보를 저장하거나, 저장된 최신 정보를 기반으로 사용자의 질문에 정확하고 도움이 되는 답변을 제공해야 합니다.\n",
    "        특히 사용자의 메모리에 담긴 취향이나 정보를 검색해서 적절한 답변을 할 수 있습니다.\n",
    "\n",
    "        사용 가능한 도구:\n",
    "        - save_episode: 사용자가 제공한 정보를 저장합니다. 정보가 특정 시점에 한정된다면 시간 정보를 함께 저장해야 합니다.\n",
    "        - get_memory: 사용자와의 대화 기록이나 저장된 정보를 검색하여 질문에 답할 때 사용합니다.\n",
    "\n",
    "        답변 시 유의사항:\n",
    "        - 간결하고 명확하게 답변하세요.\n",
    "        - 저장된 정보가 부족하거나 추가 정보가 필요하다면 사용자에게 다시 물어보세요.\n",
    "        - 최신 정보를 우선적으로 활용하여 답변하세요.\n",
    "\n",
    "        사용자 관련 정보 및 대화 기록:\n",
    "        {facts_string}\"\"\"\n",
    "    )\n",
    "\n",
    "    messages = [system_message] + state['messages']\n",
    "\n",
    "    response = await llm_with_tools.ainvoke(messages)\n",
    "\n",
    "    ### 채팅 내용 저장\n",
    "    if not response.tool_calls:\n",
    "        asyncio.create_task(\n",
    "            graphiti.add_episode(\n",
    "                name='Chatbot Response',\n",
    "                episode_body=f'{state[\"user_name\"]}: {state[\"messages\"][0]}\\nAI: {response.content}',\n",
    "                source=EpisodeType.message,\n",
    "                reference_time=datetime.now(timezone.utc),\n",
    "                source_description='Chatbot',\n",
    "            )\n",
    "        )\n",
    "\n",
    "    print(\"response\", response)\n",
    "    print()\n",
    "    return {'messages': [response]}"
   ]
  },
  {
   "cell_type": "code",
   "execution_count": 17,
   "metadata": {},
   "outputs": [],
   "source": [
    "async def should_continue(state, config):\n",
    "    messages = state['messages']\n",
    "    last_message = messages[-1]\n",
    "    if not last_message.tool_calls:\n",
    "        return 'end'\n",
    "    else:\n",
    "        return 'continue'"
   ]
  },
  {
   "cell_type": "code",
   "execution_count": 18,
   "metadata": {},
   "outputs": [],
   "source": [
    "graph_builder = StateGraph(State)\n",
    "memory = MemorySaver()\n",
    "\n",
    "graph_builder.add_node('agent', chatbot)\n",
    "graph_builder.add_node('tools', tool_node)\n",
    "\n",
    "graph_builder.add_edge(START, 'agent')\n",
    "graph_builder.add_conditional_edges('agent', should_continue, {'continue': 'tools', 'end': END})\n",
    "graph_builder.add_edge('tools', 'agent')\n",
    "\n",
    "graph = graph_builder.compile(checkpointer=memory)"
   ]
  },
  {
   "cell_type": "code",
   "execution_count": 19,
   "metadata": {},
   "outputs": [
    {
     "data": {
      "image/png": "[encoded data removed]",
      "text/plain": [
       "<langgraph.graph.state.CompiledStateGraph object at 0x0000022EC00E1400>"
      ]
     },
     "execution_count": 19,
     "metadata": {},
     "output_type": "execute_result"
    }
   ],
   "source": [
    "graph"
   ]
  },
  {
   "cell_type": "code",
   "execution_count": null,
   "metadata": {},
   "outputs": [],
   "source": [
    "history = [\n",
    "    {\n",
    "        \"messages\": \"\"\"\n",
    "            nayeon: 얼마 전에 좀비딸 영화 봤는데 재밌더라. 그게 웹툰도 재밌었거든.\n",
    "            AI: 오, 좀비딸 영화와 웹툰이라니 흥미롭네요! 좀비딸 웹툰은 어떤 점이 특히 재미있었나요?\n",
    "        \"\"\"\n",
    "    },\n",
    "    {\n",
    "        \"messages\": \"\"\"\n",
    "            nayeon: 내가 원래 재난 영화를 좋아하는데, 이건 코미디도 섞여서 더 재미있었어.\n",
    "            AI: 재난 영화에 코미디 요소가 더해지면 긴장감도 풀리고 재미가 배가되죠. 혹시 영화에서 가장 기억에 남는 장면이 있었나요?\n",
    "        \"\"\"\n",
    "    },\n",
    "]\n",
    "\n",
    "for chat in history:\n",
    "    await graphiti.add_episode(\n",
    "        name='Chatbot Response',\n",
    "        episode_body=chat[\"messages\"],\n",
    "        source=EpisodeType.message,\n",
    "        reference_time=datetime.now(timezone.utc),\n",
    "        source_description='Chatbot',\n",
    "    )"
   ]
  },
  {
   "cell_type": "code",
   "execution_count": null,
   "metadata": {},
   "outputs": [],
   "source": [
    "user_name = \"nayeon\"\n",
    "user_node_uuid = \"\" # TODO: 사용자 UUID 가져오기\n",
    "thread_id = uuid.uuid4().hex"
   ]
  },
  {
   "cell_type": "code",
   "execution_count": null,
   "metadata": {},
   "outputs": [],
   "source": [
    "result = await graph.ainvoke(\n",
    "    {\n",
    "        'messages': [\n",
    "            {\n",
    "                'role': 'user',\n",
    "                'content': '떡볶이 먹고 장염 걸렸어ㅠㅠ 이제 안먹을래 싫어',\n",
    "            }\n",
    "        ],\n",
    "        'user_name': user_name,\n",
    "        'user_node_uuid': user_node_uuid,\n",
    "    },\n",
    "    config={'configurable': {'thread_id': thread_id}},\n",
    ")"
   ]
  },
  {
   "cell_type": "code",
   "execution_count": null,
   "metadata": {},
   "outputs": [],
   "source": [
    "for msg in result[\"messages\"]:\n",
    "    msg.pretty_print()"
   ]
  },
  {
   "cell_type": "code",
   "execution_count": null,
   "metadata": {},
   "outputs": [],
   "source": []
  },
  {
   "cell_type": "code",
   "execution_count": 26,
   "metadata": {},
   "outputs": [
    {
     "name": "stderr",
     "output_type": "stream",
     "text": [
      "2025-09-11 21:49:21 - httpx - INFO - HTTP Request: POST https://api.openai.com/v1/embeddings \"HTTP/1.1 200 OK\"\n"
     ]
    },
    {
     "name": "stdout",
     "output_type": "stream",
     "text": [
      "\n",
      "노드 검색 결과:\n",
      "Node UUID: e4d4bfa2-31d4-4e7b-bb74-60a3ec1b9b1b\n",
      "Node Name: nayeon\n",
      "Content Summary: Nayeon is a fan of disaster movies and webtoons, particularly the '좀비딸' franchise, which includes both a movie and a webtoon. She recently watched and enjoyed the '좀비딸' movie, appreciating its mix of disaster, comedy, and humor. She generally prefers disaster films that incorporate humor, such as '월드워Z', '샤크네이도', and '좀비랜드'. Additionally, she likes tteokbokki, a popular Korean street food, but decided not to eat it anymore after experiencing food poisoning.\n"
     ]
    }
   ],
   "source": [
    "node_search_config = NODE_HYBRID_SEARCH_RRF.model_copy(deep=True)\n",
    "node_search_config.limit = 1\n",
    "\n",
    "node_search_results = await graphiti._search(\n",
    "    query='nayeon',\n",
    "    config=node_search_config,\n",
    ")\n",
    "\n",
    "print('\\n노드 검색 결과:')\n",
    "node = node_search_results.nodes[0]\n",
    "print(f'Node UUID: {node.uuid}')\n",
    "print(f'Node Name: {node.name}')\n",
    "print(f'Content Summary: {node.summary}')"
   ]
  },
  {
   "cell_type": "code",
   "execution_count": null,
   "metadata": {},
   "outputs": [],
   "source": []
  }
 ],
 "metadata": {
  "colab": {
   "provenance": [],
   "toc_visible": true
  },
  "kernelspec": {
   "display_name": "graphiti",
   "language": "python",
   "name": "python3"
  },
  "language_info": {
   "codemirror_mode": {
    "name": "ipython",
    "version": 3
   },
   "file_extension": ".py",
   "mimetype": "text/x-python",
   "name": "python",
   "nbconvert_exporter": "python",
   "pygments_lexer": "ipython3",
   "version": "3.12.11"
  }
 },
 "nbformat": 4,
 "nbformat_minor": 0
}
